{
 "cells": [
  {
   "cell_type": "markdown",
   "metadata": {},
   "source": [
    "# The problem"
   ]
  },
  {
   "cell_type": "markdown",
   "metadata": {},
   "source": [
    "Consider the following scenario: due to my obsession with planning, I set up a goal for the nightlife in Berlin: target percentages for each of several local bars and clubs to know the proportion of nights I want to spend there:\n",
    "\n",
    "+ SchwuZ: 28%\n",
    "+ KitKat: 22%\n",
    "+ Grosse Freiheit: 15%\n",
    "+ Prinzknecht: 25%\n",
    "+ Berghain: 10%\n",
    "\n",
    "However after 24 weeks, the actual shares of my visits are as follows:\n",
    "\n",
    "+ SchwuZ: 16.2%\n",
    "+ KitKat: 23.5%\n",
    "+ Grosse Freiheit: 14.8%\n",
    "+ Prinzknecht: 27.6%\n",
    "+ Berghain: 17.9%\n",
    "\n",
    "With only 8 weeks left until I move out of the city, I need to establish new targets for the remaining weeks to approach the original goals as closely as possible. However, it becomes impossible to achieve exact alignment when the difference is substantial, as there may not be enough available nights to compensate. Formulating a set of linear equations results in values outside the interval [0%, 100%].\n",
    "\n",
    "The best approach is to **optimize the numbers** to get as close as possible to the original targets while respecting the boundary conditions. This optimization process can be accomplished using **the 'minimize' module of the 'scipy' library**."
   ]
  },
  {
   "cell_type": "markdown",
   "metadata": {},
   "source": [
    "# The mathematics"
   ]
  },
  {
   "cell_type": "markdown",
   "metadata": {},
   "source": [
    "Let $t_{1}, ..., t_{5}$ be targets for individual clubs, $cs_{1}, ..., cs_{5}$ current shares and $nt_{1}, ..., nt_{5}$ unknown new targets. The total number of weeks $N_{tot} = 32$, the weeks passed $N_{passed} = 24$. Then for each club holds\n",
    "\n",
    "$$N_{tot} \\cdot t_{i} = N_{passed} \\cdot cs_{i} + (N_{tot} - N_{passed}) \\cdot nt_{i}$$\n",
    "\n",
    "and thus\n",
    "\n",
    "$$nt_{i} = \\frac{N_{passed}}{N_{tot} - N_{passed}} \\cdot (t_{i} - cs_{i}) + t_{i}.$$\n",
    "\n",
    "$nt_{i}$ can have values outside the interval [0%, 100%]."
   ]
  },
  {
   "cell_type": "markdown",
   "metadata": {},
   "source": [
    "# Optimization"
   ]
  },
  {
   "cell_type": "markdown",
   "metadata": {},
   "source": [
    "### Import"
   ]
  },
  {
   "cell_type": "code",
   "execution_count": 2,
   "metadata": {},
   "outputs": [],
   "source": [
    "import numpy as np   # for an easier work with arrays\n",
    "from scipy.optimize import minimize   # a module for finding the minimum of given function"
   ]
  },
  {
   "cell_type": "markdown",
   "metadata": {},
   "source": [
    "### Functions to optimize"
   ]
  },
  {
   "cell_type": "code",
   "execution_count": 20,
   "metadata": {},
   "outputs": [],
   "source": [
    "# equation for calculating new targets\n",
    "def calculate_new_percentages(t_i, cs_i, N_tot, N_passed):\n",
    "    return (N_passed/(N_tot - N_passed))*(np.array(t_i) - np.array(cs_i)) + np.array(t_i)\n",
    "\n",
    "# objective function using the equation above\n",
    "def objective_function(nt_i, t_i, cs_i, N_tot, N_passed):\n",
    "    return np.sum((nt_i - calculate_new_percentages(t_i, cs_i, N_tot, N_passed))**2)\n",
    "\n",
    "# to get the final shares\n",
    "def final_share(nt_i, cs_i, N_tot, N_passed):\n",
    "    return (np.array(cs_i)*N_passed + np.array(nt_i)*(N_tot - N_passed))/N_tot"
   ]
  },
  {
   "cell_type": "code",
   "execution_count": 21,
   "metadata": {},
   "outputs": [
    {
     "name": "stdout",
     "output_type": "stream",
     "text": [
      "Optimized values for nt_i: [59.97 14.08 12.18 13.78  0.  ]\n",
      "The sum of new targets: 100.00000000000001\n",
      "[27.14374972 21.14375008 14.14375008 24.14375012 13.425     ]\n"
     ]
    }
   ],
   "source": [
    "# initial guess for nt_i\n",
    "initial_guess = [50 for _ in range(5)]\n",
    "\n",
    "# constraint function for bounds (0 to 100 %)\n",
    "constraint_bounds = {'type': 'ineq', 'fun': lambda x: 100 - x}\n",
    "\n",
    "# Constraint function for sum of nt_i equal to 100\n",
    "constraint_sum = {'type': 'eq', 'fun': lambda x: np.sum(x) - 100}\n",
    "\n",
    "# Constraints list for the optimization\n",
    "constraints = [constraint_bounds] * 5 + [constraint_sum]\n",
    "\n",
    "# Numerical input\n",
    "t_i = [28, 22, 15, 25, 10] # original RM targets\n",
    "cs_i = [16.2, 23.5, 14.8, 27.6, 17.9] # actually planned proportions\n",
    "N_tot = 32 #!!!!!!!!!!!!!!!!!!!!!! number of weeks already planned\n",
    "N_passed = 24 # total number of weeks\n",
    "\n",
    "# Solve the optimization problem\n",
    "# global caps for all weekdays:\n",
    "# result = minimize(objective_function, initial_guess, args=(P_tot, P_act, N1, Ntot), constraints=constraints, bounds=[(0.1, 100) for _ in range(6)]) \n",
    "# individual caps for each weekday:\n",
    "result = minimize(objective_function, initial_guess, args=(t_i, cs_i, N_tot, N_passed), constraints=constraints,\n",
    "                  bounds=[(0, 100), (0, 100), (0, 100), (0, 100), (0, 100)])\n",
    "\n",
    "# Extract the optimized values\n",
    "nt_i = result.x\n",
    "\n",
    "print(\"Optimized values for nt_i:\", np.round(nt_i, 2))\n",
    "print(\"The sum of new targets:\", np.sum(nt_i))\n",
    "\n",
    "# final shares\n",
    "fs_i = final_share(nt_i, cs_i, N_tot, N_passed)\n",
    "print(fs_i)\n"
   ]
  }
 ],
 "metadata": {
  "kernelspec": {
   "display_name": "Python 3 (ipykernel)",
   "language": "python",
   "name": "python3"
  },
  "language_info": {
   "codemirror_mode": {
    "name": "ipython",
    "version": 3
   },
   "file_extension": ".py",
   "mimetype": "text/x-python",
   "name": "python",
   "nbconvert_exporter": "python",
   "pygments_lexer": "ipython3",
   "version": "3.10.10"
  }
 },
 "nbformat": 4,
 "nbformat_minor": 2
}
