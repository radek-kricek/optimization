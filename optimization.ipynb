{
 "cells": [
  {
   "cell_type": "code",
   "execution_count": 1,
   "metadata": {},
   "outputs": [],
   "source": [
    "import numpy as np\n",
    "from scipy.optimize import minimize"
   ]
  },
  {
   "cell_type": "code",
   "execution_count": 2,
   "metadata": {},
   "outputs": [],
   "source": [
    "# Equation for calculating new percentages\n",
    "def calculate_new_percentages(P_tot, P_act, N1, Ntot):\n",
    "    return (np.array(P_tot) - np.array(P_act) * N1 / Ntot) / (1 - N1 / Ntot)\n",
    "\n",
    "# Objective function using the equation\n",
    "def objective_function(P_new_tot, P_tot, P_act, N1, Ntot):\n",
    "    return np.sum((P_new_tot - calculate_new_percentages(P_tot, P_act, N1, Ntot))**2)"
   ]
  },
  {
   "cell_type": "code",
   "execution_count": 12,
   "metadata": {},
   "outputs": [
    {
     "name": "stdout",
     "output_type": "stream",
     "text": [
      "Optimized values for P_new_tot: [0.1216     0.24084972 0.1211     0.1133     0.36595028 0.0372    ]\n",
      "The sum of new targets: 100.0000000000027\n"
     ]
    }
   ],
   "source": [
    "# Initial guess for P_new_tot, you may adjust this based on your problem\n",
    "initial_guess = [50 for _ in range(6)]\n",
    "\n",
    "# Constraint function for bounds (0 to 100)\n",
    "constraint = {'type': 'ineq', 'fun': lambda x: 100 - x}\n",
    "\n",
    "# Constraint function for bounds (0 to 100)\n",
    "constraint_bounds = {'type': 'ineq', 'fun': lambda x: 100 - x}\n",
    "\n",
    "# Constraint function for sum of P_new_tot equal to 100\n",
    "constraint_sum = {'type': 'eq', 'fun': lambda x: np.sum(x) - 100}\n",
    "\n",
    "# Constraints list for the optimization\n",
    "constraints = [constraint_bounds] * 6 + [constraint_sum]\n",
    "\n",
    "# Numerical input\n",
    "P_tot = [15.2, 23.9, 15.13, 14.17, 26.96, 4.65] # original RM targets\n",
    "P_act = [15.93, 22.97, 16.19, 17.15, 23.24, 4.52] # actually planned proportions\n",
    "N1 = 26870 #!!!!!!!!!!!!!!!!!!!!!! number of weeks already planned\n",
    "Ntot = 34803 # total number of weeks\n",
    "\n",
    "# Solve the optimization problem\n",
    "# global caps for all weekdays:\n",
    "# result = minimize(objective_function, initial_guess, args=(P_tot, P_act, N1, Ntot), constraints=constraints, bounds=[(0.1, 100) for _ in range(6)]) \n",
    "# individual caps for each weekday:\n",
    "result = minimize(objective_function, initial_guess, args=(P_tot, P_act, N1, Ntot), constraints=constraints,\n",
    "                  bounds=[(12.16, 100), (19.12, 100), (12.11, 100), (11.33, 100), (21.57, 100), (3.72, 100)])\n",
    "\n",
    "# Extract the optimized values\n",
    "P_new_tot = result.x\n",
    "\n",
    "print(\"Optimized values for P_new_tot:\", P_new_tot/100)\n",
    "print(\"The sum of new targets:\", np.sum(P_new_tot))"
   ]
  },
  {
   "cell_type": "code",
   "execution_count": null,
   "metadata": {},
   "outputs": [],
   "source": [
    "# Let's estimate the P_final which will actually be reached\n",
    "\n"
   ]
  }
 ],
 "metadata": {
  "kernelspec": {
   "display_name": "Python 3",
   "language": "python",
   "name": "python3"
  },
  "language_info": {
   "codemirror_mode": {
    "name": "ipython",
    "version": 3
   },
   "file_extension": ".py",
   "mimetype": "text/x-python",
   "name": "python",
   "nbconvert_exporter": "python",
   "pygments_lexer": "ipython3",
   "version": "3.12.0"
  }
 },
 "nbformat": 4,
 "nbformat_minor": 2
}
