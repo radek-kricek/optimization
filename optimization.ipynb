{
 "cells": [
  {
   "cell_type": "markdown",
   "metadata": {},
   "source": [
    "# The problem"
   ]
  },
  {
   "cell_type": "markdown",
   "metadata": {},
   "source": [
    "Consider the following scenario: due to my obsession with planning, I set up a goal for the nightlife in Berlin: target percentages for each of several local bars and clubs to know the proportion of nights I want to spend there:\n",
    "\n",
    "+ SchwuZ: 28%\n",
    "+ KitKat: 22%\n",
    "+ Grosse Freiheit: 15%\n",
    "+ Prinzknecht: 25%\n",
    "+ Berghain: 10%\n",
    "\n",
    "However after 24 weeks, the actual shares of my visits are as follows:\n",
    "\n",
    "+ SchwuZ: 16.2%\n",
    "+ KitKat: 23.5%\n",
    "+ Grosse Freiheit: 14.8%\n",
    "+ Prinzknecht: 27.6%\n",
    "+ Berghain: 17.9%\n",
    "\n",
    "With only 8 weeks left until I move out of the city, I need to establish new targets for the remaining weeks to approach the original goals as closely as possible. However, it becomes impossible to achieve exact alignment when the difference is substantial, as there may not be enough available nights to compensate. Formulating a set of linear equations results in values outside the interval [0%, 100%].\n",
    "\n",
    "The best approach is to **optimize the numbers** to get as close as possible to the original targets while respecting the boundary conditions. This optimization process can be accomplished using **the 'minimize' module of the 'scipy' library**."
   ]
  },
  {
   "cell_type": "markdown",
   "metadata": {},
   "source": [
    "# The mathematics"
   ]
  },
  {
   "cell_type": "markdown",
   "metadata": {},
   "source": [
    "Let $t_{1}, ..., t_{5}$ be targets for individual clubs, $cs_{1}, ..., cs_{5}$ current shares and $nt_{1}, ..., nt_{5}$ unknown new targets. The total number of weeks $N_{tot} = 32$, the weeks passed $N_{passed} = 24$. Then for each club holds\n",
    "\n",
    "$$N_{tot} \\cdot t_{i} = N_{passed} \\cdot cs_{i} + (N_{tot} - N_{passed}) \\cdot nt_{i}$$\n",
    "\n",
    "and thus\n",
    "\n",
    "$$nt_{i} = \\frac{N_{passed}}{N_{tot} - N_{passed}} \\cdot (t_{i} - cs_{i}) + t_{i}.$$\n",
    "\n",
    "$nt_{i}$ can have values outside the interval [0%, 100%]."
   ]
  },
  {
   "cell_type": "markdown",
   "metadata": {},
   "source": [
    "# Optimization"
   ]
  },
  {
   "cell_type": "markdown",
   "metadata": {},
   "source": [
    "### Import"
   ]
  },
  {
   "cell_type": "markdown",
   "metadata": {},
   "source": [
    "Import modules and libraries - 'numpy' for easy work with arrays and 'minimize' from scipy for the optimization procedure."
   ]
  },
  {
   "cell_type": "code",
   "execution_count": 1,
   "metadata": {},
   "outputs": [],
   "source": [
    "import numpy as np   # for an easier work with arrays\n",
    "from scipy.optimize import minimize   # a module for finding the minimum of given function"
   ]
  },
  {
   "cell_type": "markdown",
   "metadata": {},
   "source": [
    "### Functions to optimize"
   ]
  },
  {
   "cell_type": "markdown",
   "metadata": {},
   "source": [
    "3 functions will be handy in this case.\n",
    "* The function setting up new targets based on the goal and current state,\n",
    "* a function be minimized - the difference between achievable optimized new targets and their mathematical representation ('objective function'),\n",
    "* the final shares to compare with objectives."
   ]
  },
  {
   "cell_type": "code",
   "execution_count": 2,
   "metadata": {},
   "outputs": [],
   "source": [
    "# equation for calculating new targets\n",
    "def calculate_new_percentages(t_i, cs_i, N_tot, N_passed):\n",
    "    return (N_passed/(N_tot - N_passed))*(np.array(t_i) - np.array(cs_i)) + np.array(t_i)\n",
    "\n",
    "# objective function using the equation above\n",
    "def objective_function(nt_i, t_i, cs_i, N_tot, N_passed):\n",
    "    return np.sum((nt_i - calculate_new_percentages(t_i, cs_i, N_tot, N_passed))**2)\n",
    "\n",
    "# final shares\n",
    "def final_share(nt_i, cs_i, N_tot, N_passed):\n",
    "    return (np.array(cs_i)*N_passed + np.array(nt_i)*(N_tot - N_passed))/N_tot"
   ]
  },
  {
   "cell_type": "markdown",
   "metadata": {},
   "source": [
    "### Calculation"
   ]
  },
  {
   "cell_type": "markdown",
   "metadata": {},
   "source": [
    "The 'optimize' package needs an initial guess to start numerically calculating the optimized values. I tried with 5, 50 and 95 and the result was pretty much the same."
   ]
  },
  {
   "cell_type": "code",
   "execution_count": 3,
   "metadata": {},
   "outputs": [],
   "source": [
    "# initial guess for nt_i\n",
    "initial_guess = [50 for _ in range(5)]"
   ]
  },
  {
   "cell_type": "markdown",
   "metadata": {},
   "source": [
    "Two kind of conditions can be set: bounds and constraints. Bounds are boundaries for the individual variable values, in my case all percentages must be between 0 and 100. Constraints are aditional conditions, here all the new targets must sum up to 100 %. The type of constraint is equality and the function specified says that the sum of new targets minus 100 % should be equal to zero."
   ]
  },
  {
   "cell_type": "code",
   "execution_count": 4,
   "metadata": {},
   "outputs": [],
   "source": [
    "# bounds\n",
    "bounds_perc = [(0, 100) for _ in range(5)]\n",
    "\n",
    "# constraint\n",
    "constraint_sum = {'type': 'eq', 'fun': lambda x: np.sum(x) - 100}"
   ]
  },
  {
   "cell_type": "markdown",
   "metadata": {},
   "source": [
    "Now I specify the numerical input - original targets, current shares between clubs, the number of weeks in total and passed. With this set of numbers, precise target cannot be reached (try calculating using the 'calculate_new_percentages' function and skipping the bounds)."
   ]
  },
  {
   "cell_type": "code",
   "execution_count": 5,
   "metadata": {},
   "outputs": [],
   "source": [
    "# numerical input\n",
    "t_i = [28, 22, 15, 25, 10] # original targets\n",
    "cs_i = [16.2, 23.5, 14.8, 27.6, 17.9] # current shares\n",
    "N_tot = 32 # total number of weeks\n",
    "N_passed = 24 # number of weeks passed"
   ]
  },
  {
   "cell_type": "markdown",
   "metadata": {},
   "source": [
    "Perform the optimization and extract the results."
   ]
  },
  {
   "cell_type": "code",
   "execution_count": 6,
   "metadata": {},
   "outputs": [],
   "source": [
    "# optimization\n",
    "result = minimize(objective_function, initial_guess, args=(t_i, cs_i, N_tot, N_passed), constraints=constraint_sum,\n",
    "                  bounds=bounds_perc)\n",
    "\n",
    "# extract results\n",
    "nt_i = result.x"
   ]
  },
  {
   "cell_type": "markdown",
   "metadata": {},
   "source": [
    "Print the results and see that the condition was met."
   ]
  },
  {
   "cell_type": "code",
   "execution_count": 7,
   "metadata": {},
   "outputs": [
    {
     "name": "stdout",
     "output_type": "stream",
     "text": [
      "Optimized values for nt_i: [59.97 14.08 12.18 13.78  0.  ]\n",
      "The sum of new targets: 100.00000000000001\n"
     ]
    }
   ],
   "source": [
    "print('Optimized values for nt_i:', np.round(nt_i, 2))\n",
    "print('The sum of new targets:', np.sum(nt_i))"
   ]
  },
  {
   "cell_type": "markdown",
   "metadata": {},
   "source": [
    "### Final comparison"
   ]
  },
  {
   "cell_type": "markdown",
   "metadata": {},
   "source": [
    "Calculate the final shares and the results with respect to original targets."
   ]
  },
  {
   "cell_type": "code",
   "execution_count": 8,
   "metadata": {},
   "outputs": [],
   "source": [
    "# final shares and difference\n",
    "fs_i = final_share(nt_i, cs_i, N_tot, N_passed)\n",
    "delta = fs_i - t_i"
   ]
  },
  {
   "cell_type": "code",
   "execution_count": 9,
   "metadata": {},
   "outputs": [
    {
     "name": "stdout",
     "output_type": "stream",
     "text": [
      "Final shares fs_i: [27.14374972 21.14375008 14.14375008 24.14375012 13.425     ]\n",
      "Difference fs_i - t_i: [-0.85625028 -0.85624992 -0.85624992 -0.85624988  3.425     ]\n"
     ]
    }
   ],
   "source": [
    "# print the check\n",
    "fs_i = final_share(nt_i, cs_i, N_tot, N_passed)\n",
    "print('Final shares fs_i:', fs_i)\n",
    "print('Difference fs_i - t_i:', delta)"
   ]
  },
  {
   "cell_type": "markdown",
   "metadata": {},
   "source": [
    "Based on the numerical input, we can see different results, for the input from this example, the first four clubs differ by less than one percent and Berghain by about 3.4 %. This is the closest I can approach the original targets."
   ]
  }
 ],
 "metadata": {
  "kernelspec": {
   "display_name": "Python 3 (ipykernel)",
   "language": "python",
   "name": "python3"
  },
  "language_info": {
   "codemirror_mode": {
    "name": "ipython",
    "version": 3
   },
   "file_extension": ".py",
   "mimetype": "text/x-python",
   "name": "python",
   "nbconvert_exporter": "python",
   "pygments_lexer": "ipython3",
   "version": "3.10.10"
  }
 },
 "nbformat": 4,
 "nbformat_minor": 2
}
